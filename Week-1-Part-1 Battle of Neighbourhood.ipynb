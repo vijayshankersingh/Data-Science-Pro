{
 "cells": [
  {
   "cell_type": "markdown",
   "metadata": {
    "collapsed": true
   },
   "source": [
    "# Introduction\n",
    "\n",
    "\n",
    "Mr. ABC wants to open a Resturant in some Locality (District) of New York.\n",
    "With the help of Data Science he needs to find out the best locatlity to start his business .\n",
    "\n",
    "\n",
    "# Business Problem \n",
    "\n",
    "In order to open a Resturant, following things needs to be analysed:\n",
    "\n",
    "1) New York population and demography \n",
    "\n",
    "2) Competitors in the locality.\n",
    "\n",
    "3) Ease of Availability of RAW materials.\n",
    "\n",
    "4) Venues around the locality.\n",
    "\n",
    "5) Income group around the locality.\n",
    "\n",
    "\n",
    "\n",
    "# Success Criteria:\n",
    "\n",
    "\n",
    "Good recommendation of locality which caters Mr.ABC need.\n"
   ]
  },
  {
   "cell_type": "code",
   "execution_count": null,
   "metadata": {},
   "outputs": [],
   "source": []
  }
 ],
 "metadata": {
  "kernelspec": {
   "display_name": "Python 3.6",
   "language": "python",
   "name": "python3"
  },
  "language_info": {
   "codemirror_mode": {
    "name": "ipython",
    "version": 3
   },
   "file_extension": ".py",
   "mimetype": "text/x-python",
   "name": "python",
   "nbconvert_exporter": "python",
   "pygments_lexer": "ipython3",
   "version": "3.6.8"
  }
 },
 "nbformat": 4,
 "nbformat_minor": 1
}
