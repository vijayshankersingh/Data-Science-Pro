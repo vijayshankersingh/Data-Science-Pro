{
 "cells": [
  {
   "cell_type": "markdown",
   "metadata": {
    "collapsed": true
   },
   "source": [
    "# Data :\n",
    "\n",
    "One city will be analysed in this project : Newyork City.\n",
    "\n",
    "We will be using the below datasets for analysing Newyork city\n",
    "\n",
    "### Data 1 : .\n",
    "\n",
    "This dataset exists for free on the web. Link to the dataset is : https://geo.nyu.edu/catalog/nyu_2451_34572\n",
    "\n",
    "### Data 2 : Farmers Markets data can be accessed from below link to get data about Ease of Raw material availability.\n",
    "\n",
    "https://data.cityofnewyork.us/dataset/DOHMH-Farmers-Markets-and-Food-Boxes/8vwk-6iz2\n",
    "\n",
    "Website-https://www.grownyc.org/greenmarketco/foodbox\n",
    "\n",
    "GrowNYC's Fresh Food Box Program is a food access initiative that enables under-served communities to purchase fresh, healthy, and primarily regionally grown produce well below traditional retail prices.\n",
    "\n",
    "\n",
    "### Data 3 : We will use Wikipedia to get below data:\n",
    "\n",
    "    New York Population\n",
    "    New York City Demographics\n",
    "    Cuisine of New York city\n",
    "\n",
    "\n",
    "\n",
    "### Data 4 : Geographical co-ordinates of New York will be used to find venues.\n"
   ]
  },
  {
   "cell_type": "code",
   "execution_count": null,
   "metadata": {},
   "outputs": [],
   "source": []
  }
 ],
 "metadata": {
  "kernelspec": {
   "display_name": "Python 3.6",
   "language": "python",
   "name": "python3"
  },
  "language_info": {
   "codemirror_mode": {
    "name": "ipython",
    "version": 3
   },
   "file_extension": ".py",
   "mimetype": "text/x-python",
   "name": "python",
   "nbconvert_exporter": "python",
   "pygments_lexer": "ipython3",
   "version": "3.6.8"
  }
 },
 "nbformat": 4,
 "nbformat_minor": 1
}
